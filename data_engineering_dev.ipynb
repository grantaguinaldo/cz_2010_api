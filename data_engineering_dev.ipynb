{
 "cells": [
  {
   "cell_type": "code",
   "execution_count": 1,
   "metadata": {},
   "outputs": [
    {
     "name": "stdout",
     "output_type": "stream",
     "text": [
      "rm: cz_2010.sqlite: No such file or directory\r\n"
     ]
    }
   ],
   "source": [
    "!rm cz_2010.sqlite"
   ]
  },
  {
   "cell_type": "code",
   "execution_count": 2,
   "metadata": {
    "collapsed": true
   },
   "outputs": [],
   "source": [
    "import pandas as pd\n",
    "import numpy as np\n",
    "import sqlalchemy\n",
    "from sqlalchemy.ext.declarative import declarative_base\n",
    "from sqlalchemy import *\n",
    "from sqlalchemy.ext.automap import automap_base\n",
    "from sqlalchemy.orm import Session"
   ]
  },
  {
   "cell_type": "code",
   "execution_count": 3,
   "metadata": {
    "collapsed": true
   },
   "outputs": [],
   "source": [
    "df = pd.read_csv('data_in/LOS-ANGELES-DOWNTOWN_722874_CZ2010.CSV', low_memory=False)"
   ]
  },
  {
   "cell_type": "code",
   "execution_count": 4,
   "metadata": {
    "collapsed": true
   },
   "outputs": [],
   "source": [
    "df['date_time'] = df['Date (MM/DD/YYYY)'] + ' ' + df['Time (HH:MM)']"
   ]
  },
  {
   "cell_type": "code",
   "execution_count": 5,
   "metadata": {
    "collapsed": true
   },
   "outputs": [],
   "source": [
    "df.columns = df.columns.str.upper()"
   ]
  },
  {
   "cell_type": "code",
   "execution_count": 6,
   "metadata": {},
   "outputs": [
    {
     "data": {
      "text/plain": [
       "['DATE (MM/DD/YYYY)',\n",
       " 'TIME (HH:MM)',\n",
       " 'ETR (W/M^2)',\n",
       " 'ETRN (W/M^2)',\n",
       " 'GHI (W/M^2)',\n",
       " 'GHI SOURCE',\n",
       " 'GHI UNCERT (%)',\n",
       " 'DNI (W/M^2)',\n",
       " 'DNI SOURCE',\n",
       " 'DNI UNCERT (%)',\n",
       " 'DHI (W/M^2)',\n",
       " 'DHI SOURCE',\n",
       " 'DHI UNCERT (%)',\n",
       " 'GH ILLUM (LX)',\n",
       " 'GH ILLUM SOURCE',\n",
       " 'GLOBAL ILLUM UNCERT (%)',\n",
       " 'DN ILLUM (LX)',\n",
       " 'DN ILLUM SOURCE',\n",
       " 'DN ILLUM UNCERT (%)',\n",
       " 'DH ILLUM (LX)',\n",
       " 'DH ILLUM SOURCE',\n",
       " 'DH ILLUM UNCERT (%)',\n",
       " 'ZENITH LUM (CD/M^2)',\n",
       " 'ZENITH LUM SOURCE',\n",
       " 'ZENITH LUM UNCERT (%)',\n",
       " 'TOTCLD (TENTHS)',\n",
       " 'TOTCLD SOURCE',\n",
       " 'TOTCLD UNCERT (CODE)',\n",
       " 'OPQCLD (TENTHS)',\n",
       " 'OPQCLD SOURCE',\n",
       " 'OPQCLD UNCERT (CODE)',\n",
       " 'DRY-BULB (C)',\n",
       " 'DRY-BULB SOURCE',\n",
       " 'DRY-BULB UNCERT (CODE)',\n",
       " 'DEW-POINT (C)',\n",
       " 'DEW-POINT SOURCE',\n",
       " 'DEW-POINT UNCERT (CODE)',\n",
       " 'RHUM (%)',\n",
       " 'RHUM SOURCE',\n",
       " 'RHUM UNCERT (CODE)',\n",
       " 'PRESSURE (MBAR)',\n",
       " 'PRESSURE SOURCE',\n",
       " 'PRESSURE UNCERT (CODE)',\n",
       " 'WDIR (DEGREES)',\n",
       " 'WDIR SOURCE',\n",
       " 'WDIR UNCERT (CODE)',\n",
       " 'WSPD (M/S)',\n",
       " 'WSPD SOURCE',\n",
       " 'WSPD UNCERT (CODE)',\n",
       " 'HVIS (M)',\n",
       " 'HVIS SOURCE',\n",
       " 'HVIS UNCERT (CODE)',\n",
       " 'CEILHGT (M)',\n",
       " 'CEILHGT SOURCE',\n",
       " 'CEILHGT UNCERT (CODE)',\n",
       " 'PWAT (CM)',\n",
       " 'PWAT SOURCE',\n",
       " 'PWAT UNCERT (CODE)',\n",
       " 'AOD (UNITLESS)',\n",
       " 'AOD SOURCE',\n",
       " 'AOD UNCERT (CODE)',\n",
       " 'ALB (UNITLESS)',\n",
       " 'ALB SOURCE',\n",
       " 'ALB UNCERT (CODE)',\n",
       " 'LPRECIP DEPTH (MM)',\n",
       " 'LPRECIP QUANTITY (HR)',\n",
       " 'LPRECIP SOURCE',\n",
       " 'LPRECIP UNCERT (CODE)',\n",
       " 'PRESWTH (METAR CODE)        ',\n",
       " 'DATE_TIME']"
      ]
     },
     "execution_count": 6,
     "metadata": {},
     "output_type": "execute_result"
    }
   ],
   "source": [
    "df.columns.tolist()"
   ]
  },
  {
   "cell_type": "code",
   "execution_count": 7,
   "metadata": {
    "collapsed": true
   },
   "outputs": [],
   "source": [
    "df_subset = df[['DATE (MM/DD/YYYY)', 'TIME (HH:MM)', 'DRY-BULB (C)']]"
   ]
  },
  {
   "cell_type": "code",
   "execution_count": 8,
   "metadata": {
    "collapsed": true
   },
   "outputs": [],
   "source": [
    "df_subset.columns = df_subset.columns.str.replace('(', '')\n",
    "df_subset.columns = df_subset.columns.str.replace(')', '')\n",
    "df_subset.columns = df_subset.columns.str.replace(' ', '_')\n",
    "df_subset.columns = df_subset.columns.str.replace('/', '_')\n",
    "df_subset.columns = df_subset.columns.str.replace('-', '_')\n",
    "df_subset.columns = df_subset.columns.str.replace(':', '_')"
   ]
  },
  {
   "cell_type": "code",
   "execution_count": 9,
   "metadata": {},
   "outputs": [
    {
     "data": {
      "text/html": [
       "<div>\n",
       "<style scoped>\n",
       "    .dataframe tbody tr th:only-of-type {\n",
       "        vertical-align: middle;\n",
       "    }\n",
       "\n",
       "    .dataframe tbody tr th {\n",
       "        vertical-align: top;\n",
       "    }\n",
       "\n",
       "    .dataframe thead th {\n",
       "        text-align: right;\n",
       "    }\n",
       "</style>\n",
       "<table border=\"1\" class=\"dataframe\">\n",
       "  <thead>\n",
       "    <tr style=\"text-align: right;\">\n",
       "      <th></th>\n",
       "      <th>DATE_MM_DD_YYYY</th>\n",
       "      <th>TIME_HH_MM</th>\n",
       "      <th>DRY_BULB_C</th>\n",
       "    </tr>\n",
       "  </thead>\n",
       "  <tbody>\n",
       "    <tr>\n",
       "      <th>0</th>\n",
       "      <td>2004-01-01</td>\n",
       "      <td>1:00</td>\n",
       "      <td>9.0</td>\n",
       "    </tr>\n",
       "    <tr>\n",
       "      <th>1</th>\n",
       "      <td>2004-01-01</td>\n",
       "      <td>2:00</td>\n",
       "      <td>7.8</td>\n",
       "    </tr>\n",
       "    <tr>\n",
       "      <th>2</th>\n",
       "      <td>2004-01-01</td>\n",
       "      <td>3:00</td>\n",
       "      <td>7.8</td>\n",
       "    </tr>\n",
       "    <tr>\n",
       "      <th>3</th>\n",
       "      <td>2004-01-01</td>\n",
       "      <td>4:00</td>\n",
       "      <td>7.2</td>\n",
       "    </tr>\n",
       "    <tr>\n",
       "      <th>4</th>\n",
       "      <td>2004-01-01</td>\n",
       "      <td>5:00</td>\n",
       "      <td>6.1</td>\n",
       "    </tr>\n",
       "  </tbody>\n",
       "</table>\n",
       "</div>"
      ],
      "text/plain": [
       "  DATE_MM_DD_YYYY TIME_HH_MM  DRY_BULB_C\n",
       "0      2004-01-01       1:00         9.0\n",
       "1      2004-01-01       2:00         7.8\n",
       "2      2004-01-01       3:00         7.8\n",
       "3      2004-01-01       4:00         7.2\n",
       "4      2004-01-01       5:00         6.1"
      ]
     },
     "execution_count": 9,
     "metadata": {},
     "output_type": "execute_result"
    }
   ],
   "source": [
    "df_subset.head()"
   ]
  },
  {
   "cell_type": "code",
   "execution_count": 10,
   "metadata": {},
   "outputs": [
    {
     "name": "stderr",
     "output_type": "stream",
     "text": [
      "/Users/gta/anaconda3/lib/python3.6/site-packages/ipykernel_launcher.py:1: SettingWithCopyWarning: \n",
      "A value is trying to be set on a copy of a slice from a DataFrame.\n",
      "Try using .loc[row_indexer,col_indexer] = value instead\n",
      "\n",
      "See the caveats in the documentation: http://pandas.pydata.org/pandas-docs/stable/indexing.html#indexing-view-versus-copy\n",
      "  \"\"\"Entry point for launching an IPython kernel.\n",
      "/Users/gta/anaconda3/lib/python3.6/site-packages/ipykernel_launcher.py:2: SettingWithCopyWarning: \n",
      "A value is trying to be set on a copy of a slice from a DataFrame.\n",
      "Try using .loc[row_indexer,col_indexer] = value instead\n",
      "\n",
      "See the caveats in the documentation: http://pandas.pydata.org/pandas-docs/stable/indexing.html#indexing-view-versus-copy\n",
      "  \n",
      "/Users/gta/anaconda3/lib/python3.6/site-packages/ipykernel_launcher.py:3: SettingWithCopyWarning: \n",
      "A value is trying to be set on a copy of a slice from a DataFrame.\n",
      "Try using .loc[row_indexer,col_indexer] = value instead\n",
      "\n",
      "See the caveats in the documentation: http://pandas.pydata.org/pandas-docs/stable/indexing.html#indexing-view-versus-copy\n",
      "  This is separate from the ipykernel package so we can avoid doing imports until\n",
      "/Users/gta/anaconda3/lib/python3.6/site-packages/ipykernel_launcher.py:4: SettingWithCopyWarning: \n",
      "A value is trying to be set on a copy of a slice from a DataFrame.\n",
      "Try using .loc[row_indexer,col_indexer] = value instead\n",
      "\n",
      "See the caveats in the documentation: http://pandas.pydata.org/pandas-docs/stable/indexing.html#indexing-view-versus-copy\n",
      "  after removing the cwd from sys.path.\n",
      "/Users/gta/anaconda3/lib/python3.6/site-packages/ipykernel_launcher.py:5: SettingWithCopyWarning: \n",
      "A value is trying to be set on a copy of a slice from a DataFrame.\n",
      "Try using .loc[row_indexer,col_indexer] = value instead\n",
      "\n",
      "See the caveats in the documentation: http://pandas.pydata.org/pandas-docs/stable/indexing.html#indexing-view-versus-copy\n",
      "  \"\"\"\n",
      "/Users/gta/anaconda3/lib/python3.6/site-packages/ipykernel_launcher.py:6: SettingWithCopyWarning: \n",
      "A value is trying to be set on a copy of a slice from a DataFrame.\n",
      "Try using .loc[row_indexer,col_indexer] = value instead\n",
      "\n",
      "See the caveats in the documentation: http://pandas.pydata.org/pandas-docs/stable/indexing.html#indexing-view-versus-copy\n",
      "  \n",
      "/Users/gta/anaconda3/lib/python3.6/site-packages/ipykernel_launcher.py:7: SettingWithCopyWarning: \n",
      "A value is trying to be set on a copy of a slice from a DataFrame.\n",
      "Try using .loc[row_indexer,col_indexer] = value instead\n",
      "\n",
      "See the caveats in the documentation: http://pandas.pydata.org/pandas-docs/stable/indexing.html#indexing-view-versus-copy\n",
      "  import sys\n",
      "/Users/gta/anaconda3/lib/python3.6/site-packages/ipykernel_launcher.py:8: SettingWithCopyWarning: \n",
      "A value is trying to be set on a copy of a slice from a DataFrame.\n",
      "Try using .loc[row_indexer,col_indexer] = value instead\n",
      "\n",
      "See the caveats in the documentation: http://pandas.pydata.org/pandas-docs/stable/indexing.html#indexing-view-versus-copy\n",
      "  \n",
      "/Users/gta/anaconda3/lib/python3.6/site-packages/ipykernel_launcher.py:9: SettingWithCopyWarning: \n",
      "A value is trying to be set on a copy of a slice from a DataFrame.\n",
      "Try using .loc[row_indexer,col_indexer] = value instead\n",
      "\n",
      "See the caveats in the documentation: http://pandas.pydata.org/pandas-docs/stable/indexing.html#indexing-view-versus-copy\n",
      "  if __name__ == '__main__':\n"
     ]
    }
   ],
   "source": [
    "df_subset['TIME_DT_H'] = df_subset['TIME_HH_MM'].str.split(':').str[0]\n",
    "df_subset['TIME_DT_HH'] = df_subset['TIME_DT_H'].apply(lambda x: x.zfill(2))\n",
    "df_subset['TEMP_F'] = 'TEMP_F_'\n",
    "df_subset['TIME_DT_M'] = '00'\n",
    "df_subset['DRY_BULB_F'] = (df_subset['DRY_BULB_C'] * (9/5)) + 32\n",
    "df_subset['TYPE'] = 'CZ_2010'\n",
    "df_subset['STATION'] = 'LOS-ANGELES-DOWNTOWN-USC'\n",
    "df_subset['STATION_NBR'] = '722874'\n",
    "df_subset['TIMESTAMP'] = df_subset[['TEMP_F', 'TIME_DT_HH', 'TIME_DT_M']].apply(lambda x: ''.join(x), axis=1)"
   ]
  },
  {
   "cell_type": "code",
   "execution_count": 11,
   "metadata": {},
   "outputs": [
    {
     "data": {
      "text/html": [
       "<div>\n",
       "<style scoped>\n",
       "    .dataframe tbody tr th:only-of-type {\n",
       "        vertical-align: middle;\n",
       "    }\n",
       "\n",
       "    .dataframe tbody tr th {\n",
       "        vertical-align: top;\n",
       "    }\n",
       "\n",
       "    .dataframe thead th {\n",
       "        text-align: right;\n",
       "    }\n",
       "</style>\n",
       "<table border=\"1\" class=\"dataframe\">\n",
       "  <thead>\n",
       "    <tr style=\"text-align: right;\">\n",
       "      <th></th>\n",
       "      <th>DATE_MM_DD_YYYY</th>\n",
       "      <th>TIME_HH_MM</th>\n",
       "      <th>DRY_BULB_C</th>\n",
       "      <th>TIME_DT_H</th>\n",
       "      <th>TIME_DT_HH</th>\n",
       "      <th>TEMP_F</th>\n",
       "      <th>TIME_DT_M</th>\n",
       "      <th>DRY_BULB_F</th>\n",
       "      <th>TYPE</th>\n",
       "      <th>STATION</th>\n",
       "      <th>STATION_NBR</th>\n",
       "      <th>TIMESTAMP</th>\n",
       "    </tr>\n",
       "  </thead>\n",
       "  <tbody>\n",
       "    <tr>\n",
       "      <th>0</th>\n",
       "      <td>2004-01-01</td>\n",
       "      <td>1:00</td>\n",
       "      <td>9.0</td>\n",
       "      <td>1</td>\n",
       "      <td>01</td>\n",
       "      <td>TEMP_F_</td>\n",
       "      <td>00</td>\n",
       "      <td>48.20</td>\n",
       "      <td>CZ_2010</td>\n",
       "      <td>LOS-ANGELES-DOWNTOWN-USC</td>\n",
       "      <td>722874</td>\n",
       "      <td>TEMP_F_0100</td>\n",
       "    </tr>\n",
       "    <tr>\n",
       "      <th>1</th>\n",
       "      <td>2004-01-01</td>\n",
       "      <td>2:00</td>\n",
       "      <td>7.8</td>\n",
       "      <td>2</td>\n",
       "      <td>02</td>\n",
       "      <td>TEMP_F_</td>\n",
       "      <td>00</td>\n",
       "      <td>46.04</td>\n",
       "      <td>CZ_2010</td>\n",
       "      <td>LOS-ANGELES-DOWNTOWN-USC</td>\n",
       "      <td>722874</td>\n",
       "      <td>TEMP_F_0200</td>\n",
       "    </tr>\n",
       "    <tr>\n",
       "      <th>2</th>\n",
       "      <td>2004-01-01</td>\n",
       "      <td>3:00</td>\n",
       "      <td>7.8</td>\n",
       "      <td>3</td>\n",
       "      <td>03</td>\n",
       "      <td>TEMP_F_</td>\n",
       "      <td>00</td>\n",
       "      <td>46.04</td>\n",
       "      <td>CZ_2010</td>\n",
       "      <td>LOS-ANGELES-DOWNTOWN-USC</td>\n",
       "      <td>722874</td>\n",
       "      <td>TEMP_F_0300</td>\n",
       "    </tr>\n",
       "    <tr>\n",
       "      <th>3</th>\n",
       "      <td>2004-01-01</td>\n",
       "      <td>4:00</td>\n",
       "      <td>7.2</td>\n",
       "      <td>4</td>\n",
       "      <td>04</td>\n",
       "      <td>TEMP_F_</td>\n",
       "      <td>00</td>\n",
       "      <td>44.96</td>\n",
       "      <td>CZ_2010</td>\n",
       "      <td>LOS-ANGELES-DOWNTOWN-USC</td>\n",
       "      <td>722874</td>\n",
       "      <td>TEMP_F_0400</td>\n",
       "    </tr>\n",
       "    <tr>\n",
       "      <th>4</th>\n",
       "      <td>2004-01-01</td>\n",
       "      <td>5:00</td>\n",
       "      <td>6.1</td>\n",
       "      <td>5</td>\n",
       "      <td>05</td>\n",
       "      <td>TEMP_F_</td>\n",
       "      <td>00</td>\n",
       "      <td>42.98</td>\n",
       "      <td>CZ_2010</td>\n",
       "      <td>LOS-ANGELES-DOWNTOWN-USC</td>\n",
       "      <td>722874</td>\n",
       "      <td>TEMP_F_0500</td>\n",
       "    </tr>\n",
       "  </tbody>\n",
       "</table>\n",
       "</div>"
      ],
      "text/plain": [
       "  DATE_MM_DD_YYYY TIME_HH_MM  DRY_BULB_C TIME_DT_H TIME_DT_HH   TEMP_F  \\\n",
       "0      2004-01-01       1:00         9.0         1         01  TEMP_F_   \n",
       "1      2004-01-01       2:00         7.8         2         02  TEMP_F_   \n",
       "2      2004-01-01       3:00         7.8         3         03  TEMP_F_   \n",
       "3      2004-01-01       4:00         7.2         4         04  TEMP_F_   \n",
       "4      2004-01-01       5:00         6.1         5         05  TEMP_F_   \n",
       "\n",
       "  TIME_DT_M  DRY_BULB_F     TYPE                   STATION STATION_NBR  \\\n",
       "0        00       48.20  CZ_2010  LOS-ANGELES-DOWNTOWN-USC      722874   \n",
       "1        00       46.04  CZ_2010  LOS-ANGELES-DOWNTOWN-USC      722874   \n",
       "2        00       46.04  CZ_2010  LOS-ANGELES-DOWNTOWN-USC      722874   \n",
       "3        00       44.96  CZ_2010  LOS-ANGELES-DOWNTOWN-USC      722874   \n",
       "4        00       42.98  CZ_2010  LOS-ANGELES-DOWNTOWN-USC      722874   \n",
       "\n",
       "     TIMESTAMP  \n",
       "0  TEMP_F_0100  \n",
       "1  TEMP_F_0200  \n",
       "2  TEMP_F_0300  \n",
       "3  TEMP_F_0400  \n",
       "4  TEMP_F_0500  "
      ]
     },
     "execution_count": 11,
     "metadata": {},
     "output_type": "execute_result"
    }
   ],
   "source": [
    "df_subset.head()"
   ]
  },
  {
   "cell_type": "code",
   "execution_count": 12,
   "metadata": {},
   "outputs": [],
   "source": [
    "FILTER = ['DATE_MM_DD_YYYY',\n",
    "          'TIMESTAMP',\n",
    "          'DRY_BULB_F',\n",
    "          'TYPE',\n",
    "          'STATION', \n",
    "          'STATION_NBR']\n",
    "\n",
    "df = df_subset[FILTER]"
   ]
  },
  {
   "cell_type": "code",
   "execution_count": 13,
   "metadata": {},
   "outputs": [
    {
     "data": {
      "text/html": [
       "<div>\n",
       "<style scoped>\n",
       "    .dataframe tbody tr th:only-of-type {\n",
       "        vertical-align: middle;\n",
       "    }\n",
       "\n",
       "    .dataframe tbody tr th {\n",
       "        vertical-align: top;\n",
       "    }\n",
       "\n",
       "    .dataframe thead th {\n",
       "        text-align: right;\n",
       "    }\n",
       "</style>\n",
       "<table border=\"1\" class=\"dataframe\">\n",
       "  <thead>\n",
       "    <tr style=\"text-align: right;\">\n",
       "      <th></th>\n",
       "      <th>DATE_MM_DD_YYYY</th>\n",
       "      <th>TIMESTAMP</th>\n",
       "      <th>DRY_BULB_F</th>\n",
       "      <th>TYPE</th>\n",
       "      <th>STATION</th>\n",
       "      <th>STATION_NBR</th>\n",
       "    </tr>\n",
       "  </thead>\n",
       "  <tbody>\n",
       "    <tr>\n",
       "      <th>0</th>\n",
       "      <td>2004-01-01</td>\n",
       "      <td>TEMP_F_0100</td>\n",
       "      <td>48.20</td>\n",
       "      <td>CZ_2010</td>\n",
       "      <td>LOS-ANGELES-DOWNTOWN-USC</td>\n",
       "      <td>722874</td>\n",
       "    </tr>\n",
       "    <tr>\n",
       "      <th>1</th>\n",
       "      <td>2004-01-01</td>\n",
       "      <td>TEMP_F_0200</td>\n",
       "      <td>46.04</td>\n",
       "      <td>CZ_2010</td>\n",
       "      <td>LOS-ANGELES-DOWNTOWN-USC</td>\n",
       "      <td>722874</td>\n",
       "    </tr>\n",
       "    <tr>\n",
       "      <th>2</th>\n",
       "      <td>2004-01-01</td>\n",
       "      <td>TEMP_F_0300</td>\n",
       "      <td>46.04</td>\n",
       "      <td>CZ_2010</td>\n",
       "      <td>LOS-ANGELES-DOWNTOWN-USC</td>\n",
       "      <td>722874</td>\n",
       "    </tr>\n",
       "    <tr>\n",
       "      <th>3</th>\n",
       "      <td>2004-01-01</td>\n",
       "      <td>TEMP_F_0400</td>\n",
       "      <td>44.96</td>\n",
       "      <td>CZ_2010</td>\n",
       "      <td>LOS-ANGELES-DOWNTOWN-USC</td>\n",
       "      <td>722874</td>\n",
       "    </tr>\n",
       "    <tr>\n",
       "      <th>4</th>\n",
       "      <td>2004-01-01</td>\n",
       "      <td>TEMP_F_0500</td>\n",
       "      <td>42.98</td>\n",
       "      <td>CZ_2010</td>\n",
       "      <td>LOS-ANGELES-DOWNTOWN-USC</td>\n",
       "      <td>722874</td>\n",
       "    </tr>\n",
       "  </tbody>\n",
       "</table>\n",
       "</div>"
      ],
      "text/plain": [
       "  DATE_MM_DD_YYYY    TIMESTAMP  DRY_BULB_F     TYPE                   STATION  \\\n",
       "0      2004-01-01  TEMP_F_0100       48.20  CZ_2010  LOS-ANGELES-DOWNTOWN-USC   \n",
       "1      2004-01-01  TEMP_F_0200       46.04  CZ_2010  LOS-ANGELES-DOWNTOWN-USC   \n",
       "2      2004-01-01  TEMP_F_0300       46.04  CZ_2010  LOS-ANGELES-DOWNTOWN-USC   \n",
       "3      2004-01-01  TEMP_F_0400       44.96  CZ_2010  LOS-ANGELES-DOWNTOWN-USC   \n",
       "4      2004-01-01  TEMP_F_0500       42.98  CZ_2010  LOS-ANGELES-DOWNTOWN-USC   \n",
       "\n",
       "  STATION_NBR  \n",
       "0      722874  \n",
       "1      722874  \n",
       "2      722874  \n",
       "3      722874  \n",
       "4      722874  "
      ]
     },
     "execution_count": 13,
     "metadata": {},
     "output_type": "execute_result"
    }
   ],
   "source": [
    "df.head()"
   ]
  },
  {
   "cell_type": "code",
   "execution_count": 14,
   "metadata": {
    "collapsed": true
   },
   "outputs": [],
   "source": [
    "df_pivot = df.pivot_table(index=['DATE_MM_DD_YYYY', 'TYPE', 'STATION', 'STATION_NBR'], \n",
    "                          columns='TIMESTAMP',\n",
    "                          values='DRY_BULB_F', \n",
    "                          aggfunc='sum')"
   ]
  },
  {
   "cell_type": "code",
   "execution_count": 15,
   "metadata": {
    "collapsed": true
   },
   "outputs": [],
   "source": [
    "#https://stackoverflow.com/questions/38951345/how-to-get-rid-of-multilevel-index-after-using-pivot-table-pandas\n",
    "df_pivot = df_pivot.rename_axis(None, axis=1).reset_index() "
   ]
  },
  {
   "cell_type": "code",
   "execution_count": 16,
   "metadata": {
    "collapsed": true
   },
   "outputs": [],
   "source": [
    "df_pivot.rename(columns={'DATE_MM_DD_YYYY': 'READ_DT'}, inplace=True)\n",
    "df_pivot['READ_DT_MON'] = df_pivot['READ_DT'].str.split('-').str[1]\n",
    "df_pivot['READ_DT_DAY'] = df_pivot['READ_DT'].str.split('-').str[2]\n",
    "df_pivot['READ_DT_YEAR'] = df_pivot['READ_DT'].str.split('-').str[0]"
   ]
  },
  {
   "cell_type": "code",
   "execution_count": 17,
   "metadata": {
    "collapsed": true
   },
   "outputs": [],
   "source": [
    "df = df_pivot[[\n",
    "         'READ_DT',\n",
    "         'READ_DT_MON',\n",
    "         'READ_DT_DAY',\n",
    "         'READ_DT_YEAR',\n",
    "         'TYPE',\n",
    "         'STATION',\n",
    "         'STATION_NBR',\n",
    "         'TEMP_F_0000',\n",
    "         'TEMP_F_0100',\n",
    "         'TEMP_F_0200',\n",
    "         'TEMP_F_0300',\n",
    "         'TEMP_F_0400',\n",
    "         'TEMP_F_0500',\n",
    "         'TEMP_F_0600',\n",
    "         'TEMP_F_0700',\n",
    "         'TEMP_F_0800',\n",
    "         'TEMP_F_0900',\n",
    "         'TEMP_F_1000',\n",
    "         'TEMP_F_1100',\n",
    "         'TEMP_F_1200',\n",
    "         'TEMP_F_1300',\n",
    "         'TEMP_F_1400',\n",
    "         'TEMP_F_1500',\n",
    "         'TEMP_F_1600',\n",
    "         'TEMP_F_1700',\n",
    "         'TEMP_F_1800',\n",
    "         'TEMP_F_1900',\n",
    "         'TEMP_F_2000',\n",
    "         'TEMP_F_2100',\n",
    "         'TEMP_F_2200',\n",
    "         'TEMP_F_2300']]"
   ]
  },
  {
   "cell_type": "code",
   "execution_count": 18,
   "metadata": {
    "collapsed": true
   },
   "outputs": [],
   "source": [
    "df.sort_values(by=['READ_DT_MON', 'READ_DT_DAY'], inplace=True)\n",
    "df.reset_index(drop=True, inplace=True)"
   ]
  },
  {
   "cell_type": "code",
   "execution_count": 19,
   "metadata": {
    "collapsed": true
   },
   "outputs": [],
   "source": [
    "df['READ_DT'] = pd.to_datetime(df['READ_DT'])"
   ]
  },
  {
   "cell_type": "markdown",
   "metadata": {},
   "source": [
    "### Create SQL Database"
   ]
  },
  {
   "cell_type": "code",
   "execution_count": 20,
   "metadata": {},
   "outputs": [],
   "source": [
    "engine = create_engine('sqlite:///cz_2010.sqlite')"
   ]
  },
  {
   "cell_type": "code",
   "execution_count": 21,
   "metadata": {
    "collapsed": true
   },
   "outputs": [],
   "source": [
    "conn = engine.connect()\n",
    "Base = declarative_base()\n",
    "\n",
    "class Data(Base):\n",
    "    __tablename__ = 'cz_2010_usc'\n",
    "    \n",
    "    id = Column(Integer, primary_key=True)\n",
    "    READ_DT = Column(DateTime)\n",
    "    READ_DT_MON = Column(Integer)\n",
    "    READ_DT_DAY = Column(Integer)\n",
    "    READ_DT_YEAR = Column(Integer)\n",
    "    TYPE = Column(String)\n",
    "    STATION = Column(String)\n",
    "    STATION_NBR = Column(Integer)\n",
    "    TEMP_F_0000 = Column(Float)\n",
    "    TEMP_F_0100 = Column(Float)\n",
    "    TEMP_F_0200 = Column(Float)\n",
    "    TEMP_F_0300 = Column(Float)\n",
    "    TEMP_F_0400 = Column(Float)\n",
    "    TEMP_F_0500 = Column(Float)\n",
    "    TEMP_F_0600 = Column(Float)\n",
    "    TEMP_F_0700 = Column(Float)\n",
    "    TEMP_F_0800 = Column(Float)\n",
    "    TEMP_F_0900 = Column(Float)\n",
    "    TEMP_F_1000 = Column(Float)\n",
    "    TEMP_F_1100 = Column(Float)\n",
    "    TEMP_F_1200 = Column(Float)\n",
    "    TEMP_F_1300 = Column(Float)\n",
    "    TEMP_F_1400 = Column(Float)\n",
    "    TEMP_F_1500 = Column(Float)\n",
    "    TEMP_F_1600 = Column(Float)\n",
    "    TEMP_F_1700 = Column(Float)\n",
    "    TEMP_F_1800 = Column(Float)\n",
    "    TEMP_F_1900 = Column(Float)\n",
    "    TEMP_F_2000 = Column(Float)\n",
    "    TEMP_F_2100 = Column(Float)\n",
    "    TEMP_F_2200 = Column(Float)\n",
    "    TEMP_F_2300 = Column(Float)\n",
    "\n",
    "    def __repr__(self):\n",
    "        return f\"id={self.id}, name={self.name}\""
   ]
  },
  {
   "cell_type": "code",
   "execution_count": 22,
   "metadata": {
    "collapsed": true
   },
   "outputs": [],
   "source": [
    "Base.metadata.create_all(engine)"
   ]
  },
  {
   "cell_type": "code",
   "execution_count": 23,
   "metadata": {
    "collapsed": true
   },
   "outputs": [],
   "source": [
    "data_dict = df.to_dict(orient='records')"
   ]
  },
  {
   "cell_type": "code",
   "execution_count": 24,
   "metadata": {
    "collapsed": true
   },
   "outputs": [],
   "source": [
    "metadata = MetaData(bind = engine)\n",
    "metadata.reflect()"
   ]
  },
  {
   "cell_type": "code",
   "execution_count": 25,
   "metadata": {
    "collapsed": true
   },
   "outputs": [],
   "source": [
    "table = sqlalchemy.Table('cz_2010_usc', metadata, autoload=True)"
   ]
  },
  {
   "cell_type": "code",
   "execution_count": 26,
   "metadata": {},
   "outputs": [
    {
     "data": {
      "text/plain": [
       "<sqlalchemy.engine.result.ResultProxy at 0x114172208>"
      ]
     },
     "execution_count": 26,
     "metadata": {},
     "output_type": "execute_result"
    }
   ],
   "source": [
    "conn.execute(table.delete())"
   ]
  },
  {
   "cell_type": "code",
   "execution_count": 27,
   "metadata": {},
   "outputs": [
    {
     "data": {
      "text/plain": [
       "<sqlalchemy.engine.result.ResultProxy at 0x11416f6a0>"
      ]
     },
     "execution_count": 27,
     "metadata": {},
     "output_type": "execute_result"
    }
   ],
   "source": [
    "conn.execute(table.insert(), data_dict)"
   ]
  },
  {
   "cell_type": "markdown",
   "metadata": {},
   "source": [
    "### Test Connection with an actual SQL Query"
   ]
  },
  {
   "cell_type": "code",
   "execution_count": 28,
   "metadata": {},
   "outputs": [
    {
     "data": {
      "text/plain": [
       "[(1667.4,)]"
      ]
     },
     "execution_count": 28,
     "metadata": {},
     "output_type": "execute_result"
    }
   ],
   "source": [
    "conn.execute(\"SELECT SUM(TEMP_F_0000) \\\n",
    "              FROM cz_2010_usc \\\n",
    "              WHERE READ_DT_MON=04\").fetchall()"
   ]
  },
  {
   "cell_type": "code",
   "execution_count": 29,
   "metadata": {},
   "outputs": [
    {
     "data": {
      "text/plain": [
       "[(91, '2001-04-01 00:00:00.000000', 4, 1, 2001, 'CZ_2010', 'LOS-ANGELES-DOWNTOWN-USC', 722874, 57.019999999999996, 62.42, 60.44, 59.18, 58.1, 57.019999999999996, 57.019999999999996, 57.019999999999996, 57.019999999999996, 55.94, 57.019999999999996, 59.0, 60.980000000000004, 62.06, 60.980000000000004, 64.94, 64.03999999999999, 60.980000000000004, 59.0, 59.0, 57.92, 57.92, 57.92, 57.92),\n",
       " (92, '2001-04-02 00:00:00.000000', 4, 2, 2001, 'CZ_2010', 'LOS-ANGELES-DOWNTOWN-USC', 722874, 57.019999999999996, 57.019999999999996, 57.019999999999996, 57.019999999999996, 55.94, 55.94, 55.94, 55.94, 57.019999999999996, 57.92, 60.08, 60.980000000000004, 62.96, 64.03999999999999, 64.94, 66.92, 64.03999999999999, 62.96, 62.06, 60.08, 57.92, 57.019999999999996, 55.94, 55.94),\n",
       " (93, '2001-04-03 00:00:00.000000', 4, 3, 2001, 'CZ_2010', 'LOS-ANGELES-DOWNTOWN-USC', 722874, 55.040000000000006, 57.019999999999996, 55.94, 55.94, 55.040000000000006, 53.96, 53.96, 53.96, 55.040000000000006, 55.94, 57.92, 59.0, 59.0, 60.980000000000004, 60.980000000000004, 62.06, 62.06, 60.980000000000004, 60.08, 57.92, 57.019999999999996, 55.94, 55.94, 55.94),\n",
       " (94, '2001-04-04 00:00:00.000000', 4, 4, 2001, 'CZ_2010', 'LOS-ANGELES-DOWNTOWN-USC', 722874, 55.040000000000006, 55.040000000000006, 53.96, 53.96, 53.96, 53.06, 53.06, 53.06, 53.06, 53.96, 55.94, 57.019999999999996, 57.92, 59.0, 60.08, 60.08, 60.08, 57.92, 57.019999999999996, 55.94, 55.040000000000006, 55.040000000000006, 55.040000000000006, 55.040000000000006),\n",
       " (95, '2001-04-05 00:00:00.000000', 4, 5, 2001, 'CZ_2010', 'LOS-ANGELES-DOWNTOWN-USC', 722874, 53.06, 53.96, 53.96, 53.96, 53.06, 51.980000000000004, 51.08, 51.08, 51.980000000000004, 55.040000000000006, 57.019999999999996, 57.92, 60.980000000000004, 62.06, 60.08, 62.96, 60.980000000000004, 60.980000000000004, 60.980000000000004, 59.0, 57.019999999999996, 55.94, 55.040000000000006, 53.96)]"
      ]
     },
     "execution_count": 29,
     "metadata": {},
     "output_type": "execute_result"
    }
   ],
   "source": [
    "conn.execute(\"SELECT * \\\n",
    "              FROM cz_2010_usc \\\n",
    "              WHERE READ_DT_MON=04\").fetchall()[0:5]"
   ]
  },
  {
   "cell_type": "markdown",
   "metadata": {},
   "source": [
    "### Connect to a Previously Populated SQL Database and query"
   ]
  },
  {
   "cell_type": "code",
   "execution_count": 30,
   "metadata": {
    "collapsed": true
   },
   "outputs": [],
   "source": [
    "connection_string = 'sqlite:///cz_2010.sqlite'\n",
    "engine = create_engine(connection_string)\n",
    "Base = automap_base()\n",
    "Base.prepare(engine, reflect=True)\n",
    "cz_2010 = Base.classes.cz_2010_usc\n",
    "session = Session(engine)"
   ]
  },
  {
   "cell_type": "code",
   "execution_count": 31,
   "metadata": {},
   "outputs": [
    {
     "data": {
      "text/plain": [
       "['cz_2010_usc']"
      ]
     },
     "execution_count": 31,
     "metadata": {},
     "output_type": "execute_result"
    }
   ],
   "source": [
    "Base.classes.keys()"
   ]
  },
  {
   "cell_type": "code",
   "execution_count": 32,
   "metadata": {
    "collapsed": true
   },
   "outputs": [],
   "source": [
    "WeatherData = Base.classes.cz_2010_usc"
   ]
  },
  {
   "cell_type": "code",
   "execution_count": 33,
   "metadata": {
    "collapsed": true
   },
   "outputs": [],
   "source": [
    "session = Session(engine)"
   ]
  },
  {
   "cell_type": "code",
   "execution_count": 34,
   "metadata": {
    "collapsed": true
   },
   "outputs": [],
   "source": [
    "first_row = session.query(WeatherData).first()"
   ]
  },
  {
   "cell_type": "code",
   "execution_count": 35,
   "metadata": {},
   "outputs": [
    {
     "data": {
      "text/plain": [
       "{'READ_DT': datetime.datetime(2004, 1, 1, 0, 0),\n",
       " 'READ_DT_DAY': 1,\n",
       " 'READ_DT_MON': 1,\n",
       " 'READ_DT_YEAR': 2004,\n",
       " 'STATION': 'LOS-ANGELES-DOWNTOWN-USC',\n",
       " 'STATION_NBR': 722874,\n",
       " 'TEMP_F_0000': 51.8,\n",
       " 'TEMP_F_0100': 48.2,\n",
       " 'TEMP_F_0200': 46.04,\n",
       " 'TEMP_F_0300': 46.04,\n",
       " 'TEMP_F_0400': 44.96,\n",
       " 'TEMP_F_0500': 42.980000000000004,\n",
       " 'TEMP_F_0600': 42.980000000000004,\n",
       " 'TEMP_F_0700': 42.08,\n",
       " 'TEMP_F_0800': 42.08,\n",
       " 'TEMP_F_0900': 44.06,\n",
       " 'TEMP_F_1000': 48.92,\n",
       " 'TEMP_F_1100': 53.06,\n",
       " 'TEMP_F_1200': 55.040000000000006,\n",
       " 'TEMP_F_1300': 57.92,\n",
       " 'TEMP_F_1400': 60.08,\n",
       " 'TEMP_F_1500': 62.06,\n",
       " 'TEMP_F_1600': 62.06,\n",
       " 'TEMP_F_1700': 60.980000000000004,\n",
       " 'TEMP_F_1800': 58.82,\n",
       " 'TEMP_F_1900': 56.84,\n",
       " 'TEMP_F_2000': 55.040000000000006,\n",
       " 'TEMP_F_2100': 53.6,\n",
       " 'TEMP_F_2200': 53.24,\n",
       " 'TEMP_F_2300': 51.8,\n",
       " 'TYPE': 'CZ_2010',\n",
       " '_sa_instance_state': <sqlalchemy.orm.state.InstanceState at 0x114b10710>,\n",
       " 'id': 1}"
      ]
     },
     "execution_count": 35,
     "metadata": {},
     "output_type": "execute_result"
    }
   ],
   "source": [
    "first_row.__dict__"
   ]
  },
  {
   "cell_type": "code",
   "execution_count": 36,
   "metadata": {},
   "outputs": [
    {
     "name": "stdout",
     "output_type": "stream",
     "text": [
      "Column Name: id / Data Type: INTEGER\n",
      "Column Name: READ_DT / Data Type: DATETIME\n",
      "Column Name: READ_DT_MON / Data Type: INTEGER\n",
      "Column Name: READ_DT_DAY / Data Type: INTEGER\n",
      "Column Name: READ_DT_YEAR / Data Type: INTEGER\n",
      "Column Name: TYPE / Data Type: VARCHAR\n",
      "Column Name: STATION / Data Type: VARCHAR\n",
      "Column Name: STATION_NBR / Data Type: INTEGER\n",
      "Column Name: TEMP_F_0000 / Data Type: FLOAT\n",
      "Column Name: TEMP_F_0100 / Data Type: FLOAT\n",
      "Column Name: TEMP_F_0200 / Data Type: FLOAT\n",
      "Column Name: TEMP_F_0300 / Data Type: FLOAT\n",
      "Column Name: TEMP_F_0400 / Data Type: FLOAT\n",
      "Column Name: TEMP_F_0500 / Data Type: FLOAT\n",
      "Column Name: TEMP_F_0600 / Data Type: FLOAT\n",
      "Column Name: TEMP_F_0700 / Data Type: FLOAT\n",
      "Column Name: TEMP_F_0800 / Data Type: FLOAT\n",
      "Column Name: TEMP_F_0900 / Data Type: FLOAT\n",
      "Column Name: TEMP_F_1000 / Data Type: FLOAT\n",
      "Column Name: TEMP_F_1100 / Data Type: FLOAT\n",
      "Column Name: TEMP_F_1200 / Data Type: FLOAT\n",
      "Column Name: TEMP_F_1300 / Data Type: FLOAT\n",
      "Column Name: TEMP_F_1400 / Data Type: FLOAT\n",
      "Column Name: TEMP_F_1500 / Data Type: FLOAT\n",
      "Column Name: TEMP_F_1600 / Data Type: FLOAT\n",
      "Column Name: TEMP_F_1700 / Data Type: FLOAT\n",
      "Column Name: TEMP_F_1800 / Data Type: FLOAT\n",
      "Column Name: TEMP_F_1900 / Data Type: FLOAT\n",
      "Column Name: TEMP_F_2000 / Data Type: FLOAT\n",
      "Column Name: TEMP_F_2100 / Data Type: FLOAT\n",
      "Column Name: TEMP_F_2200 / Data Type: FLOAT\n",
      "Column Name: TEMP_F_2300 / Data Type: FLOAT\n"
     ]
    }
   ],
   "source": [
    "inspector = inspect(engine)\n",
    "for each in inspector.get_columns('cz_2010_usc'):\n",
    "    print('Column Name: {} / Data Type: {}'.format(each['name'], each['type']))"
   ]
  },
  {
   "cell_type": "code",
   "execution_count": 37,
   "metadata": {},
   "outputs": [
    {
     "data": {
      "text/plain": [
       "['cz_2010_usc']"
      ]
     },
     "execution_count": 37,
     "metadata": {},
     "output_type": "execute_result"
    }
   ],
   "source": [
    "inspector.get_table_names()"
   ]
  },
  {
   "cell_type": "code",
   "execution_count": 38,
   "metadata": {},
   "outputs": [
    {
     "name": "stderr",
     "output_type": "stream",
     "text": [
      "/Users/gta/anaconda3/lib/python3.6/site-packages/ipykernel_launcher.py:1: SADeprecationWarning: Call to deprecated method get_primary_keys.  Use get_pk_constraint instead.\n",
      "  \"\"\"Entry point for launching an IPython kernel.\n"
     ]
    },
    {
     "data": {
      "text/plain": [
       "['id']"
      ]
     },
     "execution_count": 38,
     "metadata": {},
     "output_type": "execute_result"
    }
   ],
   "source": [
    "inspector.get_primary_keys('cz_2010_usc')"
   ]
  },
  {
   "cell_type": "code",
   "execution_count": 39,
   "metadata": {
    "collapsed": true
   },
   "outputs": [],
   "source": [
    "conn = engine.connect()"
   ]
  },
  {
   "cell_type": "code",
   "execution_count": 40,
   "metadata": {
    "collapsed": true
   },
   "outputs": [],
   "source": [
    "query = \"\"\"\n",
    "        select * \n",
    "        from cz_2010_usc\n",
    "        WHERE READ_DT_MON = 12\n",
    "        \"\"\""
   ]
  },
  {
   "cell_type": "code",
   "execution_count": 41,
   "metadata": {
    "collapsed": true
   },
   "outputs": [],
   "source": [
    "df_december = pd.read_sql(query, conn)"
   ]
  },
  {
   "cell_type": "code",
   "execution_count": 42,
   "metadata": {},
   "outputs": [
    {
     "data": {
      "text/html": [
       "<div>\n",
       "<style scoped>\n",
       "    .dataframe tbody tr th:only-of-type {\n",
       "        vertical-align: middle;\n",
       "    }\n",
       "\n",
       "    .dataframe tbody tr th {\n",
       "        vertical-align: top;\n",
       "    }\n",
       "\n",
       "    .dataframe thead th {\n",
       "        text-align: right;\n",
       "    }\n",
       "</style>\n",
       "<table border=\"1\" class=\"dataframe\">\n",
       "  <thead>\n",
       "    <tr style=\"text-align: right;\">\n",
       "      <th></th>\n",
       "      <th>id</th>\n",
       "      <th>READ_DT</th>\n",
       "      <th>READ_DT_MON</th>\n",
       "      <th>READ_DT_DAY</th>\n",
       "      <th>READ_DT_YEAR</th>\n",
       "      <th>TYPE</th>\n",
       "      <th>STATION</th>\n",
       "      <th>STATION_NBR</th>\n",
       "      <th>TEMP_F_0000</th>\n",
       "      <th>TEMP_F_0100</th>\n",
       "      <th>...</th>\n",
       "      <th>TEMP_F_1400</th>\n",
       "      <th>TEMP_F_1500</th>\n",
       "      <th>TEMP_F_1600</th>\n",
       "      <th>TEMP_F_1700</th>\n",
       "      <th>TEMP_F_1800</th>\n",
       "      <th>TEMP_F_1900</th>\n",
       "      <th>TEMP_F_2000</th>\n",
       "      <th>TEMP_F_2100</th>\n",
       "      <th>TEMP_F_2200</th>\n",
       "      <th>TEMP_F_2300</th>\n",
       "    </tr>\n",
       "  </thead>\n",
       "  <tbody>\n",
       "    <tr>\n",
       "      <th>0</th>\n",
       "      <td>335</td>\n",
       "      <td>2004-12-01 00:00:00.000000</td>\n",
       "      <td>12</td>\n",
       "      <td>1</td>\n",
       "      <td>2004</td>\n",
       "      <td>CZ_2010</td>\n",
       "      <td>LOS-ANGELES-DOWNTOWN-USC</td>\n",
       "      <td>722874</td>\n",
       "      <td>47.84</td>\n",
       "      <td>46.40</td>\n",
       "      <td>...</td>\n",
       "      <td>62.06</td>\n",
       "      <td>62.06</td>\n",
       "      <td>62.06</td>\n",
       "      <td>60.98</td>\n",
       "      <td>58.82</td>\n",
       "      <td>56.48</td>\n",
       "      <td>53.24</td>\n",
       "      <td>51.44</td>\n",
       "      <td>49.64</td>\n",
       "      <td>48.20</td>\n",
       "    </tr>\n",
       "    <tr>\n",
       "      <th>1</th>\n",
       "      <td>336</td>\n",
       "      <td>2004-12-02 00:00:00.000000</td>\n",
       "      <td>12</td>\n",
       "      <td>2</td>\n",
       "      <td>2004</td>\n",
       "      <td>CZ_2010</td>\n",
       "      <td>LOS-ANGELES-DOWNTOWN-USC</td>\n",
       "      <td>722874</td>\n",
       "      <td>49.64</td>\n",
       "      <td>46.40</td>\n",
       "      <td>...</td>\n",
       "      <td>62.96</td>\n",
       "      <td>64.04</td>\n",
       "      <td>64.04</td>\n",
       "      <td>64.04</td>\n",
       "      <td>61.16</td>\n",
       "      <td>58.28</td>\n",
       "      <td>55.40</td>\n",
       "      <td>55.04</td>\n",
       "      <td>52.88</td>\n",
       "      <td>50.00</td>\n",
       "    </tr>\n",
       "    <tr>\n",
       "      <th>2</th>\n",
       "      <td>337</td>\n",
       "      <td>2004-12-03 00:00:00.000000</td>\n",
       "      <td>12</td>\n",
       "      <td>3</td>\n",
       "      <td>2004</td>\n",
       "      <td>CZ_2010</td>\n",
       "      <td>LOS-ANGELES-DOWNTOWN-USC</td>\n",
       "      <td>722874</td>\n",
       "      <td>49.64</td>\n",
       "      <td>47.48</td>\n",
       "      <td>...</td>\n",
       "      <td>66.02</td>\n",
       "      <td>66.92</td>\n",
       "      <td>66.92</td>\n",
       "      <td>64.94</td>\n",
       "      <td>62.60</td>\n",
       "      <td>59.72</td>\n",
       "      <td>55.04</td>\n",
       "      <td>53.60</td>\n",
       "      <td>53.60</td>\n",
       "      <td>52.88</td>\n",
       "    </tr>\n",
       "    <tr>\n",
       "      <th>3</th>\n",
       "      <td>338</td>\n",
       "      <td>2004-12-04 00:00:00.000000</td>\n",
       "      <td>12</td>\n",
       "      <td>4</td>\n",
       "      <td>2004</td>\n",
       "      <td>CZ_2010</td>\n",
       "      <td>LOS-ANGELES-DOWNTOWN-USC</td>\n",
       "      <td>722874</td>\n",
       "      <td>53.24</td>\n",
       "      <td>48.56</td>\n",
       "      <td>...</td>\n",
       "      <td>57.02</td>\n",
       "      <td>57.02</td>\n",
       "      <td>57.02</td>\n",
       "      <td>55.94</td>\n",
       "      <td>55.58</td>\n",
       "      <td>55.40</td>\n",
       "      <td>53.60</td>\n",
       "      <td>53.60</td>\n",
       "      <td>53.60</td>\n",
       "      <td>53.60</td>\n",
       "    </tr>\n",
       "    <tr>\n",
       "      <th>4</th>\n",
       "      <td>339</td>\n",
       "      <td>2004-12-05 00:00:00.000000</td>\n",
       "      <td>12</td>\n",
       "      <td>5</td>\n",
       "      <td>2004</td>\n",
       "      <td>CZ_2010</td>\n",
       "      <td>LOS-ANGELES-DOWNTOWN-USC</td>\n",
       "      <td>722874</td>\n",
       "      <td>46.40</td>\n",
       "      <td>51.80</td>\n",
       "      <td>...</td>\n",
       "      <td>50.00</td>\n",
       "      <td>51.08</td>\n",
       "      <td>50.00</td>\n",
       "      <td>50.00</td>\n",
       "      <td>48.92</td>\n",
       "      <td>48.56</td>\n",
       "      <td>50.00</td>\n",
       "      <td>49.64</td>\n",
       "      <td>47.84</td>\n",
       "      <td>46.40</td>\n",
       "    </tr>\n",
       "  </tbody>\n",
       "</table>\n",
       "<p>5 rows × 32 columns</p>\n",
       "</div>"
      ],
      "text/plain": [
       "    id                     READ_DT  READ_DT_MON  READ_DT_DAY  READ_DT_YEAR  \\\n",
       "0  335  2004-12-01 00:00:00.000000           12            1          2004   \n",
       "1  336  2004-12-02 00:00:00.000000           12            2          2004   \n",
       "2  337  2004-12-03 00:00:00.000000           12            3          2004   \n",
       "3  338  2004-12-04 00:00:00.000000           12            4          2004   \n",
       "4  339  2004-12-05 00:00:00.000000           12            5          2004   \n",
       "\n",
       "      TYPE                   STATION  STATION_NBR  TEMP_F_0000  TEMP_F_0100  \\\n",
       "0  CZ_2010  LOS-ANGELES-DOWNTOWN-USC       722874        47.84        46.40   \n",
       "1  CZ_2010  LOS-ANGELES-DOWNTOWN-USC       722874        49.64        46.40   \n",
       "2  CZ_2010  LOS-ANGELES-DOWNTOWN-USC       722874        49.64        47.48   \n",
       "3  CZ_2010  LOS-ANGELES-DOWNTOWN-USC       722874        53.24        48.56   \n",
       "4  CZ_2010  LOS-ANGELES-DOWNTOWN-USC       722874        46.40        51.80   \n",
       "\n",
       "      ...       TEMP_F_1400  TEMP_F_1500  TEMP_F_1600  TEMP_F_1700  \\\n",
       "0     ...             62.06        62.06        62.06        60.98   \n",
       "1     ...             62.96        64.04        64.04        64.04   \n",
       "2     ...             66.02        66.92        66.92        64.94   \n",
       "3     ...             57.02        57.02        57.02        55.94   \n",
       "4     ...             50.00        51.08        50.00        50.00   \n",
       "\n",
       "   TEMP_F_1800  TEMP_F_1900  TEMP_F_2000  TEMP_F_2100  TEMP_F_2200  \\\n",
       "0        58.82        56.48        53.24        51.44        49.64   \n",
       "1        61.16        58.28        55.40        55.04        52.88   \n",
       "2        62.60        59.72        55.04        53.60        53.60   \n",
       "3        55.58        55.40        53.60        53.60        53.60   \n",
       "4        48.92        48.56        50.00        49.64        47.84   \n",
       "\n",
       "   TEMP_F_2300  \n",
       "0        48.20  \n",
       "1        50.00  \n",
       "2        52.88  \n",
       "3        53.60  \n",
       "4        46.40  \n",
       "\n",
       "[5 rows x 32 columns]"
      ]
     },
     "execution_count": 42,
     "metadata": {},
     "output_type": "execute_result"
    }
   ],
   "source": [
    "df_december.head()"
   ]
  },
  {
   "cell_type": "markdown",
   "metadata": {},
   "source": [
    "### Query Using SQLAlchemy ORM"
   ]
  },
  {
   "cell_type": "code",
   "execution_count": 43,
   "metadata": {
    "collapsed": true
   },
   "outputs": [],
   "source": [
    "station_name = session.query(WeatherData.STATION).distinct().all()"
   ]
  },
  {
   "cell_type": "code",
   "execution_count": 44,
   "metadata": {
    "collapsed": true
   },
   "outputs": [],
   "source": [
    "station_number = session.query(WeatherData.STATION_NBR).distinct().all()"
   ]
  },
  {
   "cell_type": "code",
   "execution_count": 45,
   "metadata": {},
   "outputs": [
    {
     "data": {
      "text/plain": [
       "[(722874)]"
      ]
     },
     "execution_count": 45,
     "metadata": {},
     "output_type": "execute_result"
    }
   ],
   "source": [
    "station_number"
   ]
  },
  {
   "cell_type": "code",
   "execution_count": 46,
   "metadata": {},
   "outputs": [
    {
     "data": {
      "text/plain": [
       "[('LOS-ANGELES-DOWNTOWN-USC')]"
      ]
     },
     "execution_count": 46,
     "metadata": {},
     "output_type": "execute_result"
    }
   ],
   "source": [
    "station_name"
   ]
  }
 ],
 "metadata": {
  "kernelspec": {
   "display_name": "Python 3",
   "language": "python",
   "name": "python3"
  },
  "language_info": {
   "codemirror_mode": {
    "name": "ipython",
    "version": 3
   },
   "file_extension": ".py",
   "mimetype": "text/x-python",
   "name": "python",
   "nbconvert_exporter": "python",
   "pygments_lexer": "ipython3",
   "version": "3.6.8"
  }
 },
 "nbformat": 4,
 "nbformat_minor": 2
}
